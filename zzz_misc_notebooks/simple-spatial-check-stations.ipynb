{
 "cells": [
  {
   "cell_type": "markdown",
   "id": "7882d1ce-955f-4e9e-a227-11396137719b",
   "metadata": {},
   "source": [
    "### Is a WOW station within the boundaries of the Netherlands?\n",
    "Some notes on carrying out a `point-in-polygon` analysis, a relatively frequent GIS problem that might become complex quickly!"
   ]
  },
  {
   "cell_type": "markdown",
   "id": "a012f12c-b684-41e8-a239-ba6c6898a9d9",
   "metadata": {},
   "source": [
    "#### Introduction\n",
    "\n",
    "Finding whether a point is within a polygon is a fairly common GIS problem that quickly becomes temporally costly if it needs to be done to large data collections. In this example three ways of tackling this operation are presented. Each of the approaches combines different Python libraries. The goal of this notebook is to illustrate why it is important to make sure that this operation is efficient by measuring the temporal cost of the three suggested approaches. For this purpose, we take 1 day of WOW data from the WOW Livestream (available in `./data-common/raw_wow_livestream/WOW_2023-09-01T00_00_00Z_2023-09-02T00_00_00Z.csv`) and we run the `point-in-polygon` operation for 100K of the observations, measuring the time it takes to run this operation for a large batch of data. \n",
    "\n",
    "The table below summarizes the temporal cost:\n",
    "\n",
    "| Approach    | Temporal cost (for 100k) | Libraries/Functions used |\n",
    "| :-------- | :------- | :------- |\n",
    "| 1  | 200s    | fiona, shapely, pandas' iterrows()\n",
    "| 2 | 194s     | fiona, shapely, pandas' apply()\n",
    "| 3    | <1s    | geopandas' sjoin()\n",
    "| 4  | 225s |   Python OGR (no iterrows())\n",
    "| 5  | 249s |   Python OGR (with iterrows())\n",
    "\n",
    "\n",
    "\n"
   ]
  },
  {
   "cell_type": "code",
   "execution_count": 1,
   "id": "ded55075-f7fa-487a-891d-d5255671879f",
   "metadata": {},
   "outputs": [
    {
     "name": "stderr",
     "output_type": "stream",
     "text": [
      "ERROR 1: PROJ: proj_create_from_database: Open of /opt/conda/share/proj failed\n"
     ]
    }
   ],
   "source": [
    "import time\n",
    "import fiona\n",
    "import shapely\n",
    "import shapefile\n",
    "import pandas as pd\n",
    "import geopandas as gpd\n",
    "from osgeo import osr, ogr\n",
    "from shapely.geometry import (Point, shape)"
   ]
  },
  {
   "cell_type": "code",
   "execution_count": 2,
   "id": "bbf070bb-d699-4e4c-8573-4ae99c60f83c",
   "metadata": {},
   "outputs": [
    {
     "name": "stderr",
     "output_type": "stream",
     "text": [
      "/tmp/ipykernel_50752/4020063117.py:5: DtypeWarning: Columns (12) have mixed types. Specify dtype option on import or set low_memory=False.\n",
      "  df_wow = pd.read_csv(path_obs, sep=\",\", header=0, parse_dates=[\"CreatedDateTime\", \"ReportEndDateTime\", \"LocalReportEndDateTime\"])\n"
     ]
    },
    {
     "name": "stdout",
     "output_type": "stream",
     "text": [
      "(251285, 31) (251285, 32)\n"
     ]
    }
   ],
   "source": [
    "# Setting up some paths. Note that the available contour is \"EPSG:4326\", aka \"WGS84\", aka \"latlon\"\n",
    "path_obs = r\"./data-common/raw_wow_livestream/WOW_2023-09-01T00_00_00Z_2023-09-02T00_00_00Z.csv\"\n",
    "path_contour = r\"./geodata/vector/NL_shapefile_WGS84/NL_WGS84.shp\"\n",
    "\n",
    "df_wow = pd.read_csv(path_obs, sep=\",\", header=0, parse_dates=[\"CreatedDateTime\", \"ReportEndDateTime\", \"LocalReportEndDateTime\"])\n",
    "gdf_wow = gpd.GeoDataFrame(df_wow, geometry=gpd.points_from_xy(df_wow.Longitude, df_wow.Latitude), crs=\"EPSG:4326\")\n",
    "\n",
    "print(df_wow.shape, gdf_wow.shape)"
   ]
  },
  {
   "cell_type": "markdown",
   "id": "eefb0692-a833-46ee-9ed2-00756eacbbf4",
   "metadata": {},
   "source": [
    "#### A lazy approach with `fiona`, `shapely` and `.iterrows()`\n",
    "\n",
    "This one is a no-brainer. You open the `.shp` file, lazily iterate over the dataframe rows with `.iterrows()` while calculating the `.within()` operation. "
   ]
  },
  {
   "cell_type": "code",
   "execution_count": 3,
   "id": "175a72de-49f4-4b10-a0bf-73250a254ebd",
   "metadata": {},
   "outputs": [
    {
     "name": "stdout",
     "output_type": "stream",
     "text": [
      "Number of features:  100000\n",
      "Ellapsed: 200.11 seconds\n"
     ]
    }
   ],
   "source": [
    "gdf_wow = gdf_wow.head(100000)\n",
    "print(\"Number of features: \", gdf_wow.shape[0])\n",
    "with fiona.open(path_contour) as shp:\n",
    "    poly_contour = shape(shp[0][\"geometry\"])\n",
    "    st = time.time()\n",
    "    #Also, note .iterrows() is a temporally costly method!\n",
    "    for idx, row in gdf_wow.iterrows(): \n",
    "        # print(idx, row[\"geometry\"].within(poly_contour))\n",
    "        row[\"geometry\"].within(poly_contour)\n",
    "    et = time.time()\n",
    "    print(\"Ellapsed: {0} seconds\".format(round(et-st, 2)))\n",
    "      "
   ]
  },
  {
   "cell_type": "markdown",
   "id": "9c268d74-84c0-4feb-9511-42369002479f",
   "metadata": {},
   "source": [
    "#### Another lazy approach with `fiona`, `shapely` and `.apply()`\n",
    "I tried the same approach, but this time with `.apply()`, hoping it would have a better temporal cost due to the removal of `.iterrows()`, but not really. "
   ]
  },
  {
   "cell_type": "code",
   "execution_count": 4,
   "id": "0c1d1df3-5097-48db-9c60-841fb1f077db",
   "metadata": {},
   "outputs": [
    {
     "name": "stdout",
     "output_type": "stream",
     "text": [
      "Number of features:  100000\n",
      "Ellapsed: 194.14 seconds\n"
     ]
    }
   ],
   "source": [
    "def point_in_poly(pt, poly):\n",
    "    return pt.within(poly)\n",
    "\n",
    "gdf_wow = gdf_wow.head(100000)\n",
    "print(\"Number of features: \", gdf_wow.shape[0])\n",
    "with fiona.open(path_contour) as shp:\n",
    "    poly_contour = shape(shp[0][\"geometry\"])\n",
    "    st = time.time()\n",
    "    gdf_wow.apply(lambda row: point_in_poly(row['geometry'], poly_contour), axis=1)\n",
    "    et = time.time()\n",
    "    print(\"Ellapsed: {0} seconds\".format(round(et-st, 2)))"
   ]
  },
  {
   "cell_type": "markdown",
   "id": "17ad698b-212f-4813-ac8b-1865a2b83712",
   "metadata": {},
   "source": [
    "#### An approach using `geopandas`\\' spatial join, `.sjoin()`\n",
    "The fastest, but less explicit than the previous two. Requires thinking in database terms and joining tables. It's fast because `geopandas`' `.sjoin()` function has been improved substantially since it's first versions. "
   ]
  },
  {
   "cell_type": "code",
   "execution_count": 5,
   "id": "87d868e5-4811-46a6-ae9a-b247d4246f33",
   "metadata": {},
   "outputs": [
    {
     "name": "stdout",
     "output_type": "stream",
     "text": [
      "Number of features:  100000\n"
     ]
    },
    {
     "name": "stderr",
     "output_type": "stream",
     "text": [
      "/opt/conda/lib/python3.10/site-packages/IPython/core/interactiveshell.py:3448: FutureWarning: The `op` parameter is deprecated and will be removed in a future release. Please use the `predicate` parameter instead.\n",
      "  if await self.run_code(code, result, async_=asy):\n"
     ]
    },
    {
     "name": "stdout",
     "output_type": "stream",
     "text": [
      "Ellapsed: 0.23 seconds\n"
     ]
    }
   ],
   "source": [
    "gdf_nl = gpd.read_file(path_contour)\n",
    "gdf_wow = gdf_wow.head(100000)\n",
    "\n",
    "print(\"Number of features: \", gdf_wow.shape[0])\n",
    "st = time.time()\n",
    "gdf_sjoin = gpd.sjoin(gdf_wow, gdf_nl, how='left', op='within')\n",
    "gdf_in = gdf_sjoin.query(\"index_right == 0\")\n",
    "gdf_out = gdf_sjoin.query(\"index_right != 0\")\n",
    "et = time.time()\n",
    "print(\"Ellapsed: {0} seconds\".format(round(et-st, 2)))"
   ]
  },
  {
   "cell_type": "markdown",
   "id": "3bab9592-ff3c-49bd-a1b5-6f0d452c476f",
   "metadata": {},
   "source": [
    "#### A classic way of doing this operation: OGR/GDAL\n",
    "Python bindings for C++ libraries, hence, not the most pythonic grammar! I was expecting more speed, but perhaps it would scale better for larger batches. "
   ]
  },
  {
   "cell_type": "code",
   "execution_count": 6,
   "id": "153fb5bc-101e-46da-85c0-ee829159be5c",
   "metadata": {},
   "outputs": [
    {
     "name": "stdout",
     "output_type": "stream",
     "text": [
      "Number of features:  100000\n",
      "Ellapsed (no iterrows()): 225.01 seconds\n",
      "Ellapsed (with iterrows()): 249.23 seconds\n"
     ]
    }
   ],
   "source": [
    "gdf_wow = gdf_wow.head(100000)\n",
    "print(\"Number of features: \", gdf_wow.shape[0])\n",
    "\n",
    "# Reading the feature's geometry 'the old way'\n",
    "driverName = \"ESRI Shapefile\"      # e.g.: GeoJSON, ESRI Shapefile\n",
    "driver = ogr.GetDriverByName(driverName)\n",
    "dataSource = driver.Open(path_contour, 0) # 0 means read-only. 1 means writeable.\n",
    "layer = dataSource.GetLayer()\n",
    "poly_contour = layer.GetNextFeature()\n",
    "poly_geom = poly_contour.GetGeometryRef()\n",
    "featureCount = layer.GetFeatureCount()\n",
    "\n",
    "st = time.time()\n",
    "# Unpack the dataframe to avoid using iterrows\n",
    "l = gdf_wow[[\"Longitude\", \"Latitude\"]].values.tolist()\n",
    "\n",
    "for item in l:\n",
    "    point = ogr.Geometry(ogr.wkbPoint)\n",
    "    point.AddPoint(item[0], item[1])\n",
    "    point.Within(poly_geom)\n",
    "et = time.time()\n",
    "print(\"Ellapsed (no iterrows()): {0} seconds\".format(round(et-st, 2)))    \n",
    "\n",
    "st = time.time()\n",
    "for idx, row in gdf_wow.iterrows(): \n",
    "    point = ogr.Geometry(ogr.wkbPoint)\n",
    "    point.AddPoint(row[\"Longitude\"], row[\"Latitude\"])\n",
    "    point.Within(poly_geom)\n",
    "et = time.time()\n",
    "print(\"Ellapsed (with iterrows()): {0} seconds\".format(round(et-st, 2)))"
   ]
  },
  {
   "cell_type": "code",
   "execution_count": null,
   "id": "57c0778e-a471-4cce-8b2d-ac8093432300",
   "metadata": {},
   "outputs": [],
   "source": []
  }
 ],
 "metadata": {
  "kernelspec": {
   "display_name": "Python 3 (ipykernel)",
   "language": "python",
   "name": "python3"
  },
  "language_info": {
   "codemirror_mode": {
    "name": "ipython",
    "version": 3
   },
   "file_extension": ".py",
   "mimetype": "text/x-python",
   "name": "python",
   "nbconvert_exporter": "python",
   "pygments_lexer": "ipython3",
   "version": "3.11.5"
  }
 },
 "nbformat": 4,
 "nbformat_minor": 5
}
