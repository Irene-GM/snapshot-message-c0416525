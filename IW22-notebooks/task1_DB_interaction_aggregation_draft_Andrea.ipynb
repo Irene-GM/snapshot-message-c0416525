{
 "cells": [
  {
   "cell_type": "code",
   "execution_count": 1,
   "id": "bd50c380-ea39-4c2a-98ee-d13e5434014f",
   "metadata": {},
   "outputs": [],
   "source": [
    "import xarray as xr\n",
    "import pandas as pd\n",
    "import numpy as np # ver = 1.22.3\n",
    "import matplotlib.pyplot as plt\n",
    "import netCDF4 as nc\n",
    "import sys\n",
    "import os\n",
    "from datetime import date\n",
    "from clickhouse_driver import Client\n",
    "import datetime"
   ]
  },
  {
   "cell_type": "markdown",
   "id": "0bc1e2dc-8648-4c3a-b9cc-d7ff1d73ca7e",
   "metadata": {},
   "source": [
    "## Creating the DB connection"
   ]
  },
  {
   "cell_type": "code",
   "execution_count": 2,
   "id": "18edf4f3-bdf1-43d2-ae52-431f01a84595",
   "metadata": {},
   "outputs": [
    {
     "data": {
      "text/plain": [
       "[array(['INFORMATION_SCHEMA'], dtype='<U18'),\n",
       " array(['default'], dtype='<U18'),\n",
       " array(['information_schema'], dtype='<U18'),\n",
       " array(['system'], dtype='<U18'),\n",
       " array(['wow_data'], dtype='<U18')]"
      ]
     },
     "execution_count": 2,
     "metadata": {},
     "output_type": "execute_result"
    }
   ],
   "source": [
    "client = Client(host='clickhouse',settings={'use_numpy': True})\n",
    "client.execute('SHOW DATABASES')"
   ]
  },
  {
   "cell_type": "code",
   "execution_count": 3,
   "id": "7c1f6381-817a-4ae3-bfb1-2d1a9e794744",
   "metadata": {},
   "outputs": [
    {
     "data": {
      "text/plain": [
       "[array(['Id', 'String', '', '', '', '', ''], dtype='<U32'),\n",
       " array(['SiteId', 'String', '', '', '', '', ''], dtype='<U32'),\n",
       " array(['CreatedDateTime', 'DateTime64(6)', '', '', '', '', ''],\n",
       "       dtype='<U32'),\n",
       " array(['ReportEndDateTime', 'DateTime', '', '', '', '', ''], dtype='<U32'),\n",
       " array(['LocalReportEndDateTime', 'DateTime', '', '', '', '', ''],\n",
       "       dtype='<U32'),\n",
       " array(['Latitude', 'Float64', '', '', '', '', ''], dtype='<U32'),\n",
       " array(['Longitude', 'Float64', '', '', '', '', ''], dtype='<U32'),\n",
       " array(['Point', 'Point', '', '', '', '', ''], dtype='<U32'),\n",
       " array(['ObservationType', 'Int32', '', '', '', '', ''], dtype='<U32'),\n",
       " array(['SubmissionType', 'String', '', '', '', '', ''], dtype='<U32'),\n",
       " array(['Version', 'UInt32', '', '', '', '', ''], dtype='<U32'),\n",
       " array(['VisibilityCode', 'Nullable(String)', '', '', '', '', ''],\n",
       "       dtype='<U32'),\n",
       " array(['WeatherDiary', 'Nullable(UInt32)', '', '', '', '', ''],\n",
       "       dtype='<U32'),\n",
       " array(['CollectionName', 'UInt32', '', '', '', '', ''], dtype='<U32'),\n",
       " array(['DewPointTemperature_Celsius', 'Nullable(Float64)', '', '', '', '',\n",
       "        ''], dtype='<U32'),\n",
       " array(['DryBulbTemperature_Celsius', 'Nullable(Float64)', '', '', '', '',\n",
       "        ''], dtype='<U32'),\n",
       " array(['Height', 'Int32', '', '', '', '', ''], dtype='<U32'),\n",
       " array(['IsOfficial', 'Nullable(UInt8)', '', '', '', '', ''], dtype='<U32'),\n",
       " array(['IsFlagged', 'Nullable(UInt8)', '', '', '', '', ''], dtype='<U32'),\n",
       " array(['IsPublic', 'UInt8', '', '', '', '', ''], dtype='<U32'),\n",
       " array(['IsTraceRainfallAmount', 'Nullable(UInt8)', '', '', '', '', ''],\n",
       "       dtype='<U32'),\n",
       " array(['RelativeHumidity', 'Nullable(Float64)', '', '', '', '', ''],\n",
       "       dtype='<U32'),\n",
       " array(['AirPressure_Hectopascal', 'Nullable(Float64)', '', '', '', '', ''],\n",
       "       dtype='<U32'),\n",
       " array(['RainfallAmount_Millimetre', 'Nullable(Float64)', '', '', '', '',\n",
       "        ''], dtype='<U32'),\n",
       " array(['RainfallRate_MillimetrePerHour', 'Nullable(Float64)', '', '', '',\n",
       "        '', ''], dtype='<U32'),\n",
       " array(['WindDirection', 'Nullable(Float64)', '', '', '', '', ''],\n",
       "       dtype='<U32'),\n",
       " array(['WindGust_Knot', 'Nullable(Float64)', '', '', '', '', ''],\n",
       "       dtype='<U32'),\n",
       " array(['WindGust_MetrePerSecond', 'Nullable(Float64)', '', '', '', '', ''],\n",
       "       dtype='<U32'),\n",
       " array(['WindSpeed_Knot', 'Nullable(Float64)', '', '', '', '', ''],\n",
       "       dtype='<U32'),\n",
       " array(['WindSpeed_MetrePerSecond', 'Nullable(Float64)', '', '', '', '',\n",
       "        ''], dtype='<U32'),\n",
       " array(['MeanSeaLevelPressure_Hectopascal', 'Nullable(Float64)', '', '',\n",
       "        '', '', ''], dtype='<U32')]"
      ]
     },
     "execution_count": 3,
     "metadata": {},
     "output_type": "execute_result"
    }
   ],
   "source": [
    "client.execute('DESCRIBE TABLE wow_data.observations')"
   ]
  },
  {
   "cell_type": "code",
   "execution_count": 4,
   "id": "a41f2af6-f05d-49a8-ad68-d0260897ae14",
   "metadata": {},
   "outputs": [],
   "source": [
    "test = client.query_dataframe('SELECT DISTINCT CreatedDateTime FROM wow_data.observations')"
   ]
  },
  {
   "cell_type": "code",
   "execution_count": 5,
   "id": "efeede4d-0142-405f-8d25-12cca8b0ad31",
   "metadata": {},
   "outputs": [],
   "source": [
    "test.columns\n",
    "test = test.sort_values(by='CreatedDateTime')"
   ]
  },
  {
   "cell_type": "code",
   "execution_count": 6,
   "id": "1bf660d1-55c2-4a4c-8fe3-799ddd670fe7",
   "metadata": {},
   "outputs": [
    {
     "data": {
      "text/plain": [
       "CreatedDateTime    datetime64[ns]\n",
       "dtype: object"
      ]
     },
     "execution_count": 6,
     "metadata": {},
     "output_type": "execute_result"
    }
   ],
   "source": [
    "test.dtypes\n"
   ]
  },
  {
   "cell_type": "code",
   "execution_count": 7,
   "id": "4f5f515c-91e1-4332-ad09-83d39b5cce90",
   "metadata": {},
   "outputs": [],
   "source": [
    "test2=pd.Series(pd.unique(test.CreatedDateTime.dt.date))"
   ]
  },
  {
   "cell_type": "code",
   "execution_count": 8,
   "id": "b70d0d63-7ba9-401b-946f-83ffe75b08f4",
   "metadata": {},
   "outputs": [
    {
     "data": {
      "text/plain": [
       "[datetime.date(2019, 7, 14),\n",
       " datetime.date(2019, 7, 15),\n",
       " datetime.date(2019, 7, 16),\n",
       " datetime.date(2019, 7, 17),\n",
       " datetime.date(2019, 7, 18),\n",
       " datetime.date(2019, 7, 19),\n",
       " datetime.date(2019, 7, 20),\n",
       " datetime.date(2019, 7, 21),\n",
       " datetime.date(2019, 7, 22),\n",
       " datetime.date(2019, 7, 23),\n",
       " datetime.date(2019, 7, 24),\n",
       " datetime.date(2019, 7, 25),\n",
       " datetime.date(2019, 7, 26),\n",
       " datetime.date(2019, 7, 27),\n",
       " datetime.date(2019, 7, 28),\n",
       " datetime.date(2019, 7, 29),\n",
       " datetime.date(2019, 7, 30),\n",
       " datetime.date(2019, 7, 31),\n",
       " datetime.date(2019, 8, 1),\n",
       " datetime.date(2019, 8, 2),\n",
       " datetime.date(2019, 8, 21),\n",
       " datetime.date(2019, 9, 4),\n",
       " datetime.date(2019, 9, 8)]"
      ]
     },
     "execution_count": 8,
     "metadata": {},
     "output_type": "execute_result"
    }
   ],
   "source": [
    "list(test2)"
   ]
  },
  {
   "cell_type": "code",
   "execution_count": 9,
   "id": "3d405b0e-6af4-478b-a7b0-5c98e6606879",
   "metadata": {},
   "outputs": [],
   "source": [
    "dates = [date.strftime('%Y-%m-%d') for date in test2]"
   ]
  },
  {
   "cell_type": "code",
   "execution_count": 10,
   "id": "1d7899b0-fd3c-4bb3-9a87-56d9b66f0086",
   "metadata": {},
   "outputs": [],
   "source": [
    "##test.index = pd.to_datetime(test.index, format = '%Y-%m-%d %H:%M:%S')#.strftime('%Y-%m-%d %H:%M:%S')"
   ]
  },
  {
   "cell_type": "code",
   "execution_count": 11,
   "id": "61ce64d3-6348-4a3c-983c-88d562870532",
   "metadata": {},
   "outputs": [],
   "source": [
    "##test.index"
   ]
  },
  {
   "cell_type": "code",
   "execution_count": 12,
   "id": "6b191b23-155a-424f-96fe-f983fc10f9d8",
   "metadata": {},
   "outputs": [
    {
     "name": "stdout",
     "output_type": "stream",
     "text": [
      "2019-07-14\n",
      "2019-07-15\n",
      "2019-07-16\n",
      "2019-07-17\n",
      "2019-07-18\n",
      "2019-07-19\n",
      "2019-07-20\n",
      "2019-07-21\n",
      "2019-07-22\n",
      "2019-07-23\n",
      "2019-07-24\n",
      "2019-07-25\n",
      "2019-07-26\n",
      "2019-07-27\n",
      "2019-07-28\n",
      "2019-07-29\n",
      "2019-07-30\n",
      "2019-07-31\n",
      "2019-08-01\n",
      "2019-08-02\n",
      "2019-08-21\n",
      "2019-09-04\n",
      "2019-09-08\n"
     ]
    }
   ],
   "source": [
    "for date in dates:\n",
    "    print(date)"
   ]
  },
  {
   "cell_type": "code",
   "execution_count": null,
   "id": "3c2b0b2d-bf68-4007-8a88-c4a8ec6ee4be",
   "metadata": {},
   "outputs": [
    {
     "name": "stdout",
     "output_type": "stream",
     "text": [
      "aggregation for date: 2019-07-14\n",
      "aggregation for date: 2019-07-15\n",
      "aggregation for date: 2019-07-16\n",
      "aggregation for date: 2019-07-17\n",
      "aggregation for date: 2019-07-18\n"
     ]
    }
   ],
   "source": [
    "for date in dates:\n",
    "    print(\"aggregation for date: \"+date)\n",
    "    df = client.query_dataframe(\n",
    "        'SELECT Id, Latitude, Longitude, CreatedDateTime, DryBulbTemperature_Celsius, DewPointTemperature_Celsius, RelativeHumidity, AirPressure_Hectopascal, '\\\n",
    "        'WindDirection, WindGust_MetrePerSecond, WindSpeed_MetrePerSecond,MeanSeaLevelPressure_Hectopascal '\\\n",
    "        'FROM wow_data.observations where toDate(CreatedDateTime) = %(date)s',{\"date\": date})\n",
    "    #print(df)\n",
    "    df.index = df['CreatedDateTime']\n",
    "    x5 = df.groupby(['Latitude','Longitude',df.index.round('5min')]).agg({'DryBulbTemperature_Celsius':['mean','min','max'],\n",
    "                                                                         'DewPointTemperature_Celsius':['mean','min','max'],\n",
    "                                                                         'RelativeHumidity':['mean','min','max'],\n",
    "                                                                         'AirPressure_Hectopascal':['mean','min','max'],\n",
    "                                                                         'WindDirection':['mean','min','max'],\n",
    "                                                                         'WindGust_MetrePerSecond':['mean','min','max'],\n",
    "                                                                         'WindSpeed_MetrePerSecond':['mean','min','max'],\n",
    "                                                                         'MeanSeaLevelPressure_Hectopascal':['mean','min','max']\n",
    "                                                                         })\n",
    "    x5.to_csv('/home/jovyan/work/aggregations/'+date+'aggregation_5min.csv')\n",
    "    x10 = df.groupby(['Latitude','Longitude',df.index.round('10min')]).agg({'DryBulbTemperature_Celsius':['mean','min','max'],\n",
    "                                                                         'DewPointTemperature_Celsius':['mean','min','max'],\n",
    "                                                                         'RelativeHumidity':['mean','min','max'],\n",
    "                                                                         'AirPressure_Hectopascal':['mean','min','max'],\n",
    "                                                                         'WindDirection':['mean','min','max'],\n",
    "                                                                         'WindGust_MetrePerSecond':['mean','min','max'],\n",
    "                                                                         'WindSpeed_MetrePerSecond':['mean','min','max'],\n",
    "                                                                         'MeanSeaLevelPressure_Hectopascal':['mean','min','max']\n",
    "                                                                         })\n",
    "    x10.to_csv('/home/jovyan/work/aggregations/'+date+'aggregation_10min.csv')\n",
    "    x15 = df.groupby(['Latitude','Longitude',df.index.round('15min')]).agg({'DryBulbTemperature_Celsius':['mean','min','max'],\n",
    "                                                                         'DewPointTemperature_Celsius':['mean','min','max'],\n",
    "                                                                         'RelativeHumidity':['mean','min','max'],\n",
    "                                                                         'AirPressure_Hectopascal':['mean','min','max'],\n",
    "                                                                         'WindDirection':['mean','min','max'],\n",
    "                                                                         'WindGust_MetrePerSecond':['mean','min','max'],\n",
    "                                                                         'WindSpeed_MetrePerSecond':['mean','min','max'],\n",
    "                                                                         'MeanSeaLevelPressure_Hectopascal':['mean','min','max']\n",
    "                                                                         })\n",
    "    x15.to_csv('/home/jovyan/work/aggregations/'+date+'aggregation_15min.csv')\n",
    "    x60 = df.groupby(['Latitude','Longitude',df.index.round('H')]).agg({'DryBulbTemperature_Celsius':['mean','min','max'],\n",
    "                                                                         'DewPointTemperature_Celsius':['mean','min','max'],\n",
    "                                                                         'RelativeHumidity':['mean','min','max'],\n",
    "                                                                         'AirPressure_Hectopascal':['mean','min','max'],\n",
    "                                                                         'WindDirection':['mean','min','max'],\n",
    "                                                                         'WindGust_MetrePerSecond':['mean','min','max'],\n",
    "                                                                         'WindSpeed_MetrePerSecond':['mean','min','max'],\n",
    "                                                                         'MeanSeaLevelPressure_Hectopascal':['mean','min','max']\n",
    "                                                                         })\n",
    "    x60.to_csv('/home/jovyan/work/aggregations/'+date+'aggregation_60min.csv')\n",
    "    \n",
    "    \n"
   ]
  }
 ],
 "metadata": {
  "kernelspec": {
   "display_name": "Python 3 (ipykernel)",
   "language": "python",
   "name": "python3"
  },
  "language_info": {
   "codemirror_mode": {
    "name": "ipython",
    "version": 3
   },
   "file_extension": ".py",
   "mimetype": "text/x-python",
   "name": "python",
   "nbconvert_exporter": "python",
   "pygments_lexer": "ipython3",
   "version": "3.10.4"
  }
 },
 "nbformat": 4,
 "nbformat_minor": 5
}
